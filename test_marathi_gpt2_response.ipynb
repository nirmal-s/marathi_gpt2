{
 "cells": [
  {
   "cell_type": "markdown",
   "id": "f4f1c140",
   "metadata": {},
   "source": [
    "# Marathi GPT-2 Prompt-Response Testing\n",
    "\n",
    "This notebook loads the latest checkpoint and generates a response to a given Marathi prompt."
   ]
  },
  {
   "cell_type": "code",
   "execution_count": 1,
   "id": "c6af62f5",
   "metadata": {},
   "outputs": [],
   "source": [
    "import os\n",
    "import torch\n",
    "from marathi_gpt2 import GPT2Config, GPT2Model\n",
    "from tokenizers import ByteLevelBPETokenizer\n",
    "\n",
    "def get_latest_checkpoint(prefix=\"marathi_gpt2_step_\"):\n",
    "    ckpts = [f for f in os.listdir(\".\") if f.startswith(prefix) and f.endswith(\".pt\")]\n",
    "    if not ckpts:\n",
    "        return None\n",
    "    return sorted(ckpts)[-1]"
   ]
  },
  {
   "cell_type": "code",
   "execution_count": 2,
   "id": "46c07383",
   "metadata": {},
   "outputs": [
    {
     "name": "stdout",
     "output_type": "stream",
     "text": [
      "Loading checkpoint: marathi_gpt2_step_1_300000.pt\n"
     ]
    }
   ],
   "source": [
    "# Load latest checkpoint and tokenizer\n",
    "ckpt_path = get_latest_checkpoint() or \"marathi_gpt2.pt\"\n",
    "print(f\"Loading checkpoint: {ckpt_path}\")\n",
    "config = GPT2Config()\n",
    "model = GPT2Model(config)\n",
    "model.load_state_dict(torch.load(ckpt_path, map_location=\"cpu\"))\n",
    "model.eval()\n",
    "\n",
    "TOKENIZER_DIR = \"data/marathi_bpe_tokenizer\"\n",
    "tokenizer = ByteLevelBPETokenizer(\n",
    "    os.path.join(TOKENIZER_DIR, \"vocab.json\"),\n",
    "    os.path.join(TOKENIZER_DIR, \"merges.txt\")\n",
    ")"
   ]
  },
  {
   "cell_type": "code",
   "execution_count": 6,
   "id": "2fdbe81d",
   "metadata": {},
   "outputs": [
    {
     "name": "stdout",
     "output_type": "stream",
     "text": [
      "Prompt: माझं नाव आहे.\n",
      "Response: माझं नाव आहे.ात�तातातात�\n"
     ]
    }
   ],
   "source": [
    "# Text generation function\n",
    "def generate_text(model, tokenizer, prompt, max_new_tokens=30):\n",
    "    model.eval()\n",
    "    input_ids = tokenizer.encode(prompt).ids\n",
    "    input_tensor = torch.tensor([input_ids], dtype=torch.long)\n",
    "    for _ in range(max_new_tokens):\n",
    "        with torch.no_grad():\n",
    "            logits = model(input_tensor)\n",
    "            next_token_logits = logits[0, -1, :]\n",
    "            next_token_id = torch.argmax(next_token_logits).item()\n",
    "        input_ids.append(next_token_id)\n",
    "        input_tensor = torch.tensor([input_ids], dtype=torch.long)\n",
    "        # Stop if end-of-text token (if defined) is generated\n",
    "        if next_token_id == tokenizer.token_to_id(\"</s>\"):\n",
    "            break\n",
    "    return tokenizer.decode(input_ids)\n",
    "\n",
    "# Example: Enter your prompt here\n",
    "prompt = \"माझं नाव आहे.\"\n",
    "generated = generate_text(model, tokenizer, prompt, max_new_tokens=30)\n",
    "print(\"Prompt:\", prompt)\n",
    "print(\"Response:\", generated)"
   ]
  }
 ],
 "metadata": {
  "kernelspec": {
   "display_name": ".venv",
   "language": "python",
   "name": "python3"
  },
  "language_info": {
   "codemirror_mode": {
    "name": "ipython",
    "version": 3
   },
   "file_extension": ".py",
   "mimetype": "text/x-python",
   "name": "python",
   "nbconvert_exporter": "python",
   "pygments_lexer": "ipython3",
   "version": "3.12.3"
  }
 },
 "nbformat": 4,
 "nbformat_minor": 5
}
