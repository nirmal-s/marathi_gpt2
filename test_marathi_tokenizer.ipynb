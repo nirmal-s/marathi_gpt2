{
 "cells": [
  {
   "cell_type": "markdown",
   "id": "6c315c5f",
   "metadata": {},
   "source": [
    "# Marathi BPE Tokenizer Test Notebook\n",
    "\n",
    "This notebook demonstrates how to encode and decode custom Marathi text using the trained Byte-Pair Encoding (BPE) tokenizer."
   ]
  },
  {
   "cell_type": "code",
   "execution_count": 1,
   "id": "ec0e3742",
   "metadata": {},
   "outputs": [],
   "source": [
    "# Import Required Libraries\n",
    "from tokenizers import ByteLevelBPETokenizer\n",
    "import os"
   ]
  },
  {
   "cell_type": "code",
   "execution_count": 2,
   "id": "4863bee5",
   "metadata": {},
   "outputs": [],
   "source": [
    "# Load the trained Marathi BPE tokenizer\n",
    "TOKENIZER_DIR = \"data/marathi_bpe_tokenizer\"\n",
    "tokenizer = ByteLevelBPETokenizer(\n",
    "    os.path.join(TOKENIZER_DIR, \"vocab.json\"),\n",
    "    os.path.join(TOKENIZER_DIR, \"merges.txt\")\n",
    ")"
   ]
  },
  {
   "cell_type": "code",
   "execution_count": 3,
   "id": "a4763d62",
   "metadata": {},
   "outputs": [
    {
     "name": "stdout",
     "output_type": "stream",
     "text": [
      "Original text: माझं नाव गीता आहे.\n",
      "Token IDs: [161, 102, 111, 161, 102, 127, 161, 102, 256, 161, 102, 229, 225, 161, 102, 106, 161, 102, 127, 161, 102, 118, 225, 161, 102, 250, 161, 103, 227, 161, 102, 102, 161, 102, 127, 225, 161, 102, 233, 161, 102, 122, 161, 103, 234, 18]\n",
      "Tokens: ['à', '¤', '®', 'à', '¤', '¾', 'à', '¤', 'Ŀ', 'à', '¤', 'Ĥ', 'Ġ', 'à', '¤', '¨', 'à', '¤', '¾', 'à', '¤', 'µ', 'Ġ', 'à', '¤', 'Ĺ', 'à', '¥', 'Ģ', 'à', '¤', '¤', 'à', '¤', '¾', 'Ġ', 'à', '¤', 'Ĩ', 'à', '¤', '¹', 'à', '¥', 'ĩ', '.']\n"
     ]
    }
   ],
   "source": [
    "# Encode custom Marathi text\n",
    "marathi_text = \"माझं नाव गीता आहे.\"\n",
    "encoded = tokenizer.encode(marathi_text)\n",
    "print(\"Original text:\", marathi_text)\n",
    "print(\"Token IDs:\", encoded.ids)\n",
    "print(\"Tokens:\", encoded.tokens)"
   ]
  },
  {
   "cell_type": "code",
   "execution_count": 4,
   "id": "498ceca4",
   "metadata": {},
   "outputs": [
    {
     "name": "stdout",
     "output_type": "stream",
     "text": [
      "Decoded text: माझं नाव गीता आहे.\n"
     ]
    }
   ],
   "source": [
    "# Decode the token IDs back to text\n",
    "decoded = tokenizer.decode(encoded.ids)\n",
    "print(\"Decoded text:\", decoded)"
   ]
  },
  {
   "cell_type": "code",
   "execution_count": 7,
   "id": "ab8d0ba3",
   "metadata": {},
   "outputs": [
    {
     "name": "stdout",
     "output_type": "stream",
     "text": [
      "Original: माझं नाव गीता आहे.\n",
      "Token IDs: [161, 102, 111, 161, 102, 127, 161, 102, 256, 161, 102, 229, 225, 161, 102, 106, 161, 102, 127, 161, 102, 118, 225, 161, 102, 250, 161, 103, 227, 161, 102, 102, 161, 102, 127, 225, 161, 102, 233, 161, 102, 122, 161, 103, 234, 18]\n",
      "Decoded: माझं नाव गीता आहे.\n",
      "-\n",
      "Original: आज हवामान छान आहे.\n",
      "Token IDs: [161, 102, 233, 161, 102, 255, 225, 161, 102, 122, 161, 102, 118, 161, 102, 127, 161, 102, 111, 161, 102, 127, 161, 102, 106, 225, 161, 102, 254, 161, 102, 127, 161, 102, 106, 225, 161, 102, 233, 161, 102, 122, 161, 103, 234, 18]\n",
      "Decoded: आज हवामान छान आहे.\n",
      "-\n",
      "Original: तुम्ही कसे आहात?\n",
      "Token IDs: [161, 102, 102, 161, 103, 228, 161, 102, 111, 161, 103, 240, 161, 102, 122, 161, 103, 227, 225, 161, 102, 248, 161, 102, 121, 161, 103, 234, 225, 161, 102, 233, 161, 102, 122, 161, 102, 127, 161, 102, 102, 35]\n",
      "Decoded: तुम्ही कसे आहात?\n",
      "-\n",
      "Original: पुस्तक वाचा आणि शिका.\n",
      "Token IDs: [161, 102, 108, 161, 103, 228, 161, 102, 121, 161, 103, 240, 161, 102, 102, 161, 102, 248, 225, 161, 102, 118, 161, 102, 127, 161, 102, 253, 161, 102, 127, 225, 161, 102, 233, 161, 102, 101, 161, 102, 128, 225, 161, 102, 119, 161, 102, 128, 161, 102, 248, 161, 102, 127, 18]\n",
      "Decoded: पुस्तक वाचा आणि शिका.\n",
      "-\n",
      "Original: कामाचे तास 9 ऐवजी 12 तास केल्यानं कामगारांचा फायदा की शोषण? तज्ज्ञांचे मत काय?\n",
      "Token IDs: [161, 102, 248, 161, 102, 127, 161, 102, 111, 161, 102, 127, 161, 102, 253, 161, 103, 234, 225, 161, 102, 102, 161, 102, 127, 161, 102, 121, 225, 29, 225, 161, 102, 243, 161, 102, 118, 161, 102, 255, 161, 103, 227, 225, 21, 22, 225, 161, 102, 102, 161, 102, 127, 161, 102, 121, 225, 161, 102, 248, 161, 103, 234, 161, 102, 115, 161, 103, 240, 161, 102, 112, 161, 102, 127, 161, 102, 106, 161, 102, 229, 225, 161, 102, 248, 161, 102, 127, 161, 102, 111, 161, 102, 250, 161, 102, 127, 161, 102, 113, 161, 102, 127, 161, 102, 229, 161, 102, 253, 161, 102, 127, 225, 161, 102, 109, 161, 102, 127, 161, 102, 112, 161, 102, 104, 161, 102, 127, 225, 161, 102, 248, 161, 103, 227, 225, 161, 102, 119, 161, 103, 238, 161, 102, 120, 161, 102, 101, 35, 225, 161, 102, 102, 161, 102, 255, 161, 103, 240, 161, 102, 255, 161, 103, 240, 161, 102, 257, 161, 102, 127, 161, 102, 229, 161, 102, 253, 161, 103, 234, 225, 161, 102, 111, 161, 102, 102, 225, 161, 102, 248, 161, 102, 127, 161, 102, 112, 35]\n",
      "Decoded: कामाचे तास 9 ऐवजी 12 तास केल्यानं कामगारांचा फायदा की शोषण? तज्ज्ञांचे मत काय?\n",
      "-\n"
     ]
    }
   ],
   "source": [
    "# Test with multiple Marathi sentences\n",
    "examples = [\n",
    "    \"माझं नाव गीता आहे.\",\n",
    "    \"आज हवामान छान आहे.\",\n",
    "    \"तुम्ही कसे आहात?\",\n",
    "    \"पुस्तक वाचा आणि शिका.\",\n",
    "    \"कामाचे तास 9 ऐवजी 12 तास केल्यानं कामगारांचा फायदा की शोषण? तज्ज्ञांचे मत काय?\"\n",
    "]\n",
    "for text in examples:\n",
    "    encoded = tokenizer.encode(text)\n",
    "    decoded = tokenizer.decode(encoded.ids)\n",
    "    print(f\"Original: {text}\")\n",
    "    print(f\"Token IDs: {encoded.ids}\")\n",
    "    print(f\"Decoded: {decoded}\")\n",
    "    print(\"-\")"
   ]
  },
  {
   "cell_type": "code",
   "execution_count": null,
   "id": "67c2e03e",
   "metadata": {},
   "outputs": [
    {
     "ename": "SyntaxError",
     "evalue": "unterminated string literal (detected at line 1) (3457231103.py, line 1)",
     "output_type": "error",
     "traceback": [
      "  \u001b[36mCell\u001b[39m\u001b[36m \u001b[39m\u001b[32mIn[9]\u001b[39m\u001b[32m, line 1\u001b[39m\n\u001b[31m    \u001b[39m\u001b[31mtext = '\"कारखान्यात काम करणाऱ्या कामगारांच्या कामाच्या वेळेची मर्यादा आता दिवसाला 9 तासांवरुन 12 तास करण्याच्या तरतुदीला राज्य सरकारकडून मान्यता देण्यात आली आहे.\u001b[39m\n           ^\n\u001b[31mSyntaxError\u001b[39m\u001b[31m:\u001b[39m unterminated string literal (detected at line 1)\n"
     ]
    }
   ],
   "source": [
    "text = \"\"\"कारखान्यात काम करणाऱ्या कामगारांच्या कामाच्या वेळेची मर्यादा आता दिवसाला 9 तासांवरुन 12 तास करण्याच्या तरतुदीला राज्य सरकारकडून मान्यता देण्यात आली आहे.\n",
    "\n",
    "राज्य मंत्रिमंडळाच्या बैठकीत यासंदर्भात निर्णय घेण्यात आला असून, 'कारखाने अधिनियम, 1948' मधील काही तरतुदींमध्ये दुरुस्ती करण्यास मान्यता देण्यात आली आहे.\n",
    "\n",
    "मंत्रिमंडळाच्या बैठकीत हा निर्णय घेण्यात आल्याचे जाहीर झाल्यानंतर या निर्णयावर टीकेची झोड उठली आहे. त्यानंतर सरकारनंही त्यावर स्पष्टीकरण दिलं आहे.\n",
    "\n",
    "नेमका हा निर्णय काय आहे? कायद्यातील कोणत्या तरतुदींमध्ये काय बदल करण्यात आले आहेत?\n",
    "\n",
    "त्यांचा नेमका अन्वयार्थ काय आहे? तसेच, या निर्णयाचे कामगारांच्या शारीरिक, मानसिक, आर्थिक बाबींध्ये काय परिणाम होतील, ते पाहूयात.\"\"\""
   ]
  }
 ],
 "metadata": {
  "kernelspec": {
   "display_name": ".venv",
   "language": "python",
   "name": "python3"
  },
  "language_info": {
   "codemirror_mode": {
    "name": "ipython",
    "version": 3
   },
   "file_extension": ".py",
   "mimetype": "text/x-python",
   "name": "python",
   "nbconvert_exporter": "python",
   "pygments_lexer": "ipython3",
   "version": "3.12.3"
  }
 },
 "nbformat": 4,
 "nbformat_minor": 5
}
