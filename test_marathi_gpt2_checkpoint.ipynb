{
 "cells": [
  {
   "cell_type": "markdown",
   "id": "2b5a94de",
   "metadata": {},
   "source": [
    "# Marathi GPT-2 Checkpoint Test\n",
    "\n",
    "This notebook demonstrates how to load a saved checkpoint of the Marathi GPT-2 model and test it on sample input."
   ]
  },
  {
   "cell_type": "code",
   "execution_count": 3,
   "id": "51b853fa",
   "metadata": {},
   "outputs": [],
   "source": [
    "# Import required libraries\n",
    "import torch\n",
    "from marathi_gpt2 import GPT2Config, GPT2Model"
   ]
  },
  {
   "cell_type": "code",
   "execution_count": 8,
   "id": "2614d325",
   "metadata": {},
   "outputs": [
    {
     "name": "stdout",
     "output_type": "stream",
     "text": [
      "Checkpoint loaded.\n",
      "Missing keys: ['h.0.norm1.weight', 'h.0.norm1.bias', 'h.0.self_attn.in_proj_weight', 'h.0.self_attn.in_proj_bias', 'h.0.self_attn.out_proj.weight', 'h.0.self_attn.out_proj.bias', 'h.0.norm2.weight', 'h.0.norm2.bias', 'h.0.linear1.weight', 'h.0.linear1.bias', 'h.0.linear2.weight', 'h.0.linear2.bias', 'h.1.norm1.weight', 'h.1.norm1.bias', 'h.1.self_attn.in_proj_weight', 'h.1.self_attn.in_proj_bias', 'h.1.self_attn.out_proj.weight', 'h.1.self_attn.out_proj.bias', 'h.1.norm2.weight', 'h.1.norm2.bias', 'h.1.linear1.weight', 'h.1.linear1.bias', 'h.1.linear2.weight', 'h.1.linear2.bias', 'h.2.norm1.weight', 'h.2.norm1.bias', 'h.2.self_attn.in_proj_weight', 'h.2.self_attn.in_proj_bias', 'h.2.self_attn.out_proj.weight', 'h.2.self_attn.out_proj.bias', 'h.2.norm2.weight', 'h.2.norm2.bias', 'h.2.linear1.weight', 'h.2.linear1.bias', 'h.2.linear2.weight', 'h.2.linear2.bias', 'h.3.norm1.weight', 'h.3.norm1.bias', 'h.3.self_attn.in_proj_weight', 'h.3.self_attn.in_proj_bias', 'h.3.self_attn.out_proj.weight', 'h.3.self_attn.out_proj.bias', 'h.3.norm2.weight', 'h.3.norm2.bias', 'h.3.linear1.weight', 'h.3.linear1.bias', 'h.3.linear2.weight', 'h.3.linear2.bias', 'h.4.norm1.weight', 'h.4.norm1.bias', 'h.4.self_attn.in_proj_weight', 'h.4.self_attn.in_proj_bias', 'h.4.self_attn.out_proj.weight', 'h.4.self_attn.out_proj.bias', 'h.4.norm2.weight', 'h.4.norm2.bias', 'h.4.linear1.weight', 'h.4.linear1.bias', 'h.4.linear2.weight', 'h.4.linear2.bias', 'h.5.norm1.weight', 'h.5.norm1.bias', 'h.5.self_attn.in_proj_weight', 'h.5.self_attn.in_proj_bias', 'h.5.self_attn.out_proj.weight', 'h.5.self_attn.out_proj.bias', 'h.5.norm2.weight', 'h.5.norm2.bias', 'h.5.linear1.weight', 'h.5.linear1.bias', 'h.5.linear2.weight', 'h.5.linear2.bias', 'h.6.norm1.weight', 'h.6.norm1.bias', 'h.6.self_attn.in_proj_weight', 'h.6.self_attn.in_proj_bias', 'h.6.self_attn.out_proj.weight', 'h.6.self_attn.out_proj.bias', 'h.6.norm2.weight', 'h.6.norm2.bias', 'h.6.linear1.weight', 'h.6.linear1.bias', 'h.6.linear2.weight', 'h.6.linear2.bias', 'h.7.norm1.weight', 'h.7.norm1.bias', 'h.7.self_attn.in_proj_weight', 'h.7.self_attn.in_proj_bias', 'h.7.self_attn.out_proj.weight', 'h.7.self_attn.out_proj.bias', 'h.7.norm2.weight', 'h.7.norm2.bias', 'h.7.linear1.weight', 'h.7.linear1.bias', 'h.7.linear2.weight', 'h.7.linear2.bias', 'h.8.norm1.weight', 'h.8.norm1.bias', 'h.8.self_attn.in_proj_weight', 'h.8.self_attn.in_proj_bias', 'h.8.self_attn.out_proj.weight', 'h.8.self_attn.out_proj.bias', 'h.8.norm2.weight', 'h.8.norm2.bias', 'h.8.linear1.weight', 'h.8.linear1.bias', 'h.8.linear2.weight', 'h.8.linear2.bias', 'h.9.norm1.weight', 'h.9.norm1.bias', 'h.9.self_attn.in_proj_weight', 'h.9.self_attn.in_proj_bias', 'h.9.self_attn.out_proj.weight', 'h.9.self_attn.out_proj.bias', 'h.9.norm2.weight', 'h.9.norm2.bias', 'h.9.linear1.weight', 'h.9.linear1.bias', 'h.9.linear2.weight', 'h.9.linear2.bias', 'h.10.norm1.weight', 'h.10.norm1.bias', 'h.10.self_attn.in_proj_weight', 'h.10.self_attn.in_proj_bias', 'h.10.self_attn.out_proj.weight', 'h.10.self_attn.out_proj.bias', 'h.10.norm2.weight', 'h.10.norm2.bias', 'h.10.linear1.weight', 'h.10.linear1.bias', 'h.10.linear2.weight', 'h.10.linear2.bias', 'h.11.norm1.weight', 'h.11.norm1.bias', 'h.11.self_attn.in_proj_weight', 'h.11.self_attn.in_proj_bias', 'h.11.self_attn.out_proj.weight', 'h.11.self_attn.out_proj.bias', 'h.11.norm2.weight', 'h.11.norm2.bias', 'h.11.linear1.weight', 'h.11.linear1.bias', 'h.11.linear2.weight', 'h.11.linear2.bias', 'norm_f.weight', 'norm_f.bias', 'lm_head.weight']\n",
      "Unexpected keys: ['ln_f.weight', 'ln_f.bias', 'head.weight', 'h.0.ln_1.weight', 'h.0.ln_1.bias', 'h.0.attn.in_proj_weight', 'h.0.attn.in_proj_bias', 'h.0.attn.out_proj.weight', 'h.0.attn.out_proj.bias', 'h.0.ln_2.weight', 'h.0.ln_2.bias', 'h.0.mlp.0.weight', 'h.0.mlp.0.bias', 'h.0.mlp.2.weight', 'h.0.mlp.2.bias', 'h.1.ln_1.weight', 'h.1.ln_1.bias', 'h.1.attn.in_proj_weight', 'h.1.attn.in_proj_bias', 'h.1.attn.out_proj.weight', 'h.1.attn.out_proj.bias', 'h.1.ln_2.weight', 'h.1.ln_2.bias', 'h.1.mlp.0.weight', 'h.1.mlp.0.bias', 'h.1.mlp.2.weight', 'h.1.mlp.2.bias', 'h.2.ln_1.weight', 'h.2.ln_1.bias', 'h.2.attn.in_proj_weight', 'h.2.attn.in_proj_bias', 'h.2.attn.out_proj.weight', 'h.2.attn.out_proj.bias', 'h.2.ln_2.weight', 'h.2.ln_2.bias', 'h.2.mlp.0.weight', 'h.2.mlp.0.bias', 'h.2.mlp.2.weight', 'h.2.mlp.2.bias', 'h.3.ln_1.weight', 'h.3.ln_1.bias', 'h.3.attn.in_proj_weight', 'h.3.attn.in_proj_bias', 'h.3.attn.out_proj.weight', 'h.3.attn.out_proj.bias', 'h.3.ln_2.weight', 'h.3.ln_2.bias', 'h.3.mlp.0.weight', 'h.3.mlp.0.bias', 'h.3.mlp.2.weight', 'h.3.mlp.2.bias', 'h.4.ln_1.weight', 'h.4.ln_1.bias', 'h.4.attn.in_proj_weight', 'h.4.attn.in_proj_bias', 'h.4.attn.out_proj.weight', 'h.4.attn.out_proj.bias', 'h.4.ln_2.weight', 'h.4.ln_2.bias', 'h.4.mlp.0.weight', 'h.4.mlp.0.bias', 'h.4.mlp.2.weight', 'h.4.mlp.2.bias', 'h.5.ln_1.weight', 'h.5.ln_1.bias', 'h.5.attn.in_proj_weight', 'h.5.attn.in_proj_bias', 'h.5.attn.out_proj.weight', 'h.5.attn.out_proj.bias', 'h.5.ln_2.weight', 'h.5.ln_2.bias', 'h.5.mlp.0.weight', 'h.5.mlp.0.bias', 'h.5.mlp.2.weight', 'h.5.mlp.2.bias', 'h.6.ln_1.weight', 'h.6.ln_1.bias', 'h.6.attn.in_proj_weight', 'h.6.attn.in_proj_bias', 'h.6.attn.out_proj.weight', 'h.6.attn.out_proj.bias', 'h.6.ln_2.weight', 'h.6.ln_2.bias', 'h.6.mlp.0.weight', 'h.6.mlp.0.bias', 'h.6.mlp.2.weight', 'h.6.mlp.2.bias', 'h.7.ln_1.weight', 'h.7.ln_1.bias', 'h.7.attn.in_proj_weight', 'h.7.attn.in_proj_bias', 'h.7.attn.out_proj.weight', 'h.7.attn.out_proj.bias', 'h.7.ln_2.weight', 'h.7.ln_2.bias', 'h.7.mlp.0.weight', 'h.7.mlp.0.bias', 'h.7.mlp.2.weight', 'h.7.mlp.2.bias', 'h.8.ln_1.weight', 'h.8.ln_1.bias', 'h.8.attn.in_proj_weight', 'h.8.attn.in_proj_bias', 'h.8.attn.out_proj.weight', 'h.8.attn.out_proj.bias', 'h.8.ln_2.weight', 'h.8.ln_2.bias', 'h.8.mlp.0.weight', 'h.8.mlp.0.bias', 'h.8.mlp.2.weight', 'h.8.mlp.2.bias', 'h.9.ln_1.weight', 'h.9.ln_1.bias', 'h.9.attn.in_proj_weight', 'h.9.attn.in_proj_bias', 'h.9.attn.out_proj.weight', 'h.9.attn.out_proj.bias', 'h.9.ln_2.weight', 'h.9.ln_2.bias', 'h.9.mlp.0.weight', 'h.9.mlp.0.bias', 'h.9.mlp.2.weight', 'h.9.mlp.2.bias', 'h.10.ln_1.weight', 'h.10.ln_1.bias', 'h.10.attn.in_proj_weight', 'h.10.attn.in_proj_bias', 'h.10.attn.out_proj.weight', 'h.10.attn.out_proj.bias', 'h.10.ln_2.weight', 'h.10.ln_2.bias', 'h.10.mlp.0.weight', 'h.10.mlp.0.bias', 'h.10.mlp.2.weight', 'h.10.mlp.2.bias', 'h.11.ln_1.weight', 'h.11.ln_1.bias', 'h.11.attn.in_proj_weight', 'h.11.attn.in_proj_bias', 'h.11.attn.out_proj.weight', 'h.11.attn.out_proj.bias', 'h.11.ln_2.weight', 'h.11.ln_2.bias', 'h.11.mlp.0.weight', 'h.11.mlp.0.bias', 'h.11.mlp.2.weight', 'h.11.mlp.2.bias']\n"
     ]
    }
   ],
   "source": [
    "# Load the checkpoint\n",
    "ckpt_path = \"/home/lamrin/Projects/BolBot/marathi_gpt2_step_1_200000.pt\"  # Change to your checkpoint file if needed\n",
    "config = GPT2Config()\n",
    "model = GPT2Model(config)\n",
    "state = torch.load(ckpt_path, map_location=\"cpu\")\n",
    "missing, unexpected = model.load_state_dict(state, strict=False)\n",
    "model.eval()\n",
    "print(\"Checkpoint loaded.\")\n",
    "if missing:\n",
    "    print(\"Missing keys:\", missing)\n",
    "if unexpected:\n",
    "    print(\"Unexpected keys:\", unexpected)"
   ]
  },
  {
   "cell_type": "code",
   "execution_count": 7,
   "id": "07da8974",
   "metadata": {},
   "outputs": [
    {
     "name": "stdout",
     "output_type": "stream",
     "text": [
      "Prompt: माझं नाव गीता आहे.\n",
      "Input IDs: [[161, 102, 111, 161, 102, 127, 161, 102, 256, 161, 102, 229, 225, 161, 102, 106, 161, 102, 127, 161, 102, 118, 225, 161, 102, 250, 161, 103, 227, 161, 102, 102, 161, 102, 127, 225, 161, 102, 233, 161, 102, 122, 161, 103, 234, 18]]\n",
      "Logits shape: torch.Size([1, 46, 32000])\n",
      "Next token ID: 17862\n",
      "Next token (decoded): None\n"
     ]
    }
   ],
   "source": [
    "# Test the loaded checkpoint on a sample Marathi prompt\n",
    "from tokenizers import ByteLevelBPETokenizer\n",
    "import os\n",
    "import torch\n",
    "TOKENIZER_DIR = \"data/marathi_bpe_tokenizer\"\n",
    "tokenizer = ByteLevelBPETokenizer(\n",
    "    os.path.join(TOKENIZER_DIR, \"vocab.json\"),\n",
    "    os.path.join(TOKENIZER_DIR, \"merges.txt\")\n",
    ")\n",
    "marathi_prompt = \"माझं नाव गीता आहे.\"\n",
    "input_ids = torch.tensor([tokenizer.encode(marathi_prompt).ids])\n",
    "with torch.no_grad():\n",
    "    logits = model(input_ids)\n",
    "print(\"Prompt:\", marathi_prompt)\n",
    "print(\"Input IDs:\", input_ids.tolist())\n",
    "print(\"Logits shape:\", logits.shape)\n",
    "# Get the most probable next token\n",
    "next_token_id = torch.argmax(logits[0, -1]).item()\n",
    "print(\"Next token ID:\", next_token_id)\n",
    "print(\"Next token (decoded):\", tokenizer.id_to_token(next_token_id) if hasattr(tokenizer, 'id_to_token') else '<no id_to_token>')"
   ]
  },
  {
   "cell_type": "code",
   "execution_count": null,
   "id": "6cf31e21",
   "metadata": {},
   "outputs": [
    {
     "name": "stdout",
     "output_type": "stream",
     "text": [
      "Input shape: torch.Size([1, 10])\n",
      "Logits shape: torch.Size([1, 10, 32000])\n"
     ]
    }
   ],
   "source": [
    "# Test the model on a random input tensor\n",
    "import torch\n",
    "seq_len = 10\n",
    "batch_size = 1\n",
    "input_ids = torch.randint(0, config.vocab_size, (batch_size, seq_len))\n",
    "with torch.no_grad():\n",
    "    logits = model(input_ids)\n",
    "print(\"Input shape:\", input_ids.shape)\n",
    "print(\"Logits shape:\", logits.shape)"
   ]
  },
  {
   "cell_type": "code",
   "execution_count": null,
   "id": "eb61aebd",
   "metadata": {},
   "outputs": [
    {
     "name": "stdout",
     "output_type": "stream",
     "text": [
      "Prompt: माझं नाव गीता आहे.\n",
      "Input IDs: [[161, 102, 111, 161, 102, 127, 161, 102, 256, 161, 102, 229, 225, 161, 102, 106, 161, 102, 127, 161, 102, 118, 225, 161, 102, 250, 161, 103, 227, 161, 102, 102, 161, 102, 127, 225, 161, 102, 233, 161, 102, 122, 161, 103, 234, 18]]\n",
      "Logits shape: torch.Size([1, 46, 32000])\n"
     ]
    }
   ],
   "source": [
    "# Example: Encode Marathi text, run through model, and decode\n",
    "from tokenizers import ByteLevelBPETokenizer\n",
    "\n",
    "# Load tokenizer\n",
    "TOKENIZER_DIR = \"data/marathi_bpe_tokenizer\"\n",
    "tokenizer = ByteLevelBPETokenizer(\n",
    "    os.path.join(TOKENIZER_DIR, \"vocab.json\"),\n",
    "    os.path.join(TOKENIZER_DIR, \"merges.txt\")\n",
    ")\n",
    "\n",
    "marathi_prompt = \"माझं नाव गीता आहे.\"\n",
    "input_ids = torch.tensor([tokenizer.encode(marathi_prompt).ids])\n",
    "with torch.no_grad():\n",
    "    logits = model(input_ids)\n",
    "print(\"Prompt:\", marathi_prompt)\n",
    "print(\"Input IDs:\", input_ids.tolist())\n",
    "print(\"Logits shape:\", logits.shape)"
   ]
  },
  {
   "cell_type": "code",
   "execution_count": null,
   "id": "d0d994c7",
   "metadata": {},
   "outputs": [
    {
     "data": {
      "text/plain": [
       "['marathi_gpt2_step_1_100000.pt']"
      ]
     },
     "execution_count": 3,
     "metadata": {},
     "output_type": "execute_result"
    }
   ],
   "source": [
    "# List all available checkpoint files in the current directory\n",
    "import os\n",
    "[fn for fn in os.listdir(\".\") if fn.startswith(\"marathi_gpt2\") and fn.endswith(\".pt\")]"
   ]
  },
  {
   "cell_type": "code",
   "execution_count": null,
   "id": "7ea9a79c",
   "metadata": {},
   "outputs": [
    {
     "name": "stdout",
     "output_type": "stream",
     "text": [
      "Prompt: माझं नाव गीता आहे.\n",
      "Generated: माझं नाव गीता आहे.������������������������������\n"
     ]
    }
   ],
   "source": [
    "# Simple autoregressive text generation example\n",
    "import torch\n",
    "import os\n",
    "from tokenizers import ByteLevelBPETokenizer\n",
    "\n",
    "# Load tokenizer\n",
    "TOKENIZER_DIR = \"data/marathi_bpe_tokenizer\"\n",
    "tokenizer = ByteLevelBPETokenizer(\n",
    "    os.path.join(TOKENIZER_DIR, \"vocab.json\"),\n",
    "    os.path.join(TOKENIZER_DIR, \"merges.txt\")\n",
    ")\n",
    "\n",
    "def generate_text(model, tokenizer, prompt, max_new_tokens=30):\n",
    "    model.eval()\n",
    "    input_ids = tokenizer.encode(prompt).ids\n",
    "    input_tensor = torch.tensor([input_ids], dtype=torch.long)\n",
    "    for _ in range(max_new_tokens):\n",
    "        with torch.no_grad():\n",
    "            logits = model(input_tensor)\n",
    "            next_token_logits = logits[0, -1, :]\n",
    "            next_token_id = torch.argmax(next_token_logits).item()\n",
    "        input_ids.append(next_token_id)\n",
    "        input_tensor = torch.tensor([input_ids], dtype=torch.long)\n",
    "        # Stop if end-of-text token (if defined) is generated\n",
    "        if next_token_id == tokenizer.token_to_id(\"</s>\"):\n",
    "            break\n",
    "    return tokenizer.decode(input_ids)\n",
    "\n",
    "# Example usage\n",
    "prompt = \"माझं नाव आहे.\"\n",
    "generated = generate_text(model, tokenizer, prompt, max_new_tokens=30)\n",
    "print(\"Prompt:\", prompt)\n",
    "print(\"Generated:\", generated)"
   ]
  },
  {
   "cell_type": "code",
   "execution_count": null,
   "id": "86153125",
   "metadata": {},
   "outputs": [
    {
     "name": "stdout",
     "output_type": "stream",
     "text": [
      "Prompt: कारखान्यात काम करणाऱ्या कामगारांच्या कामाच्या वेळेची मर्यादा आता दिवसाला 9 तासांवरुन 12 तास करण्याच्या तरतुदीला \n",
      "Generated: कारखान्यात काम करणाऱ्या कामगारांच्या कामाच्या वेळेची मर्यादा आता दिवसाला 9 तासांवरुन 12 तास करण्याच्या तरतुदीला ������������������������������\n"
     ]
    }
   ],
   "source": [
    "prompt = \"\"\"कारखान्यात काम करणाऱ्या कामगारांच्या कामाच्या वेळेची मर्यादा आता दिवसाला 9 तासांवरुन 12 तास करण्याच्या तरतुदीला \"\"\"\n",
    "generated = generate_text(model, tokenizer, prompt, max_new_tokens=30)\n",
    "print(\"Prompt:\", prompt)\n",
    "print(\"Generated:\", generated)"
   ]
  }
 ],
 "metadata": {
  "kernelspec": {
   "display_name": ".venv",
   "language": "python",
   "name": "python3"
  },
  "language_info": {
   "codemirror_mode": {
    "name": "ipython",
    "version": 3
   },
   "file_extension": ".py",
   "mimetype": "text/x-python",
   "name": "python",
   "nbconvert_exporter": "python",
   "pygments_lexer": "ipython3",
   "version": "3.12.3"
  }
 },
 "nbformat": 4,
 "nbformat_minor": 5
}
