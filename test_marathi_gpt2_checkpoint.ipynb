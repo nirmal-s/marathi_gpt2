{
 "cells": [
  {
   "cell_type": "markdown",
   "id": "2b5a94de",
   "metadata": {},
   "source": [
    "# Marathi GPT-2 Checkpoint Test\n",
    "\n",
    "This notebook demonstrates how to load a saved checkpoint of the Marathi GPT-2 model and test it on sample input."
   ]
  },
  {
   "cell_type": "code",
   "execution_count": 1,
   "id": "51b853fa",
   "metadata": {},
   "outputs": [],
   "source": [
    "# Import required libraries\n",
    "import torch\n",
    "from marathi_gpt2 import GPT2Config, GPT2Model"
   ]
  },
  {
   "cell_type": "code",
   "execution_count": 4,
   "id": "2614d325",
   "metadata": {},
   "outputs": [
    {
     "name": "stdout",
     "output_type": "stream",
     "text": [
      "Checkpoint loaded.\n"
     ]
    }
   ],
   "source": [
    "# Load the checkpoint\n",
    "ckpt_path = \"marathi_gpt2_step_1_100000.pt\"  # Change to your checkpoint file if needed\n",
    "config = GPT2Config()\n",
    "model = GPT2Model(config)\n",
    "model.load_state_dict(torch.load(ckpt_path, map_location=\"cpu\"))\n",
    "model.eval()\n",
    "print(\"Checkpoint loaded.\")"
   ]
  },
  {
   "cell_type": "code",
   "execution_count": 5,
   "id": "6cf31e21",
   "metadata": {},
   "outputs": [
    {
     "name": "stdout",
     "output_type": "stream",
     "text": [
      "Input shape: torch.Size([1, 10])\n",
      "Logits shape: torch.Size([1, 10, 32000])\n"
     ]
    }
   ],
   "source": [
    "# Test the model on a random input tensor\n",
    "import torch\n",
    "seq_len = 10\n",
    "batch_size = 1\n",
    "input_ids = torch.randint(0, config.vocab_size, (batch_size, seq_len))\n",
    "with torch.no_grad():\n",
    "    logits = model(input_ids)\n",
    "print(\"Input shape:\", input_ids.shape)\n",
    "print(\"Logits shape:\", logits.shape)"
   ]
  },
  {
   "cell_type": "code",
   "execution_count": 6,
   "id": "eb61aebd",
   "metadata": {},
   "outputs": [
    {
     "name": "stdout",
     "output_type": "stream",
     "text": [
      "Prompt: माझं नाव गीता आहे.\n",
      "Input IDs: [[161, 102, 111, 161, 102, 127, 161, 102, 256, 161, 102, 229, 225, 161, 102, 106, 161, 102, 127, 161, 102, 118, 225, 161, 102, 250, 161, 103, 227, 161, 102, 102, 161, 102, 127, 225, 161, 102, 233, 161, 102, 122, 161, 103, 234, 18]]\n",
      "Logits shape: torch.Size([1, 46, 32000])\n"
     ]
    }
   ],
   "source": [
    "# Example: Encode Marathi text, run through model, and decode\n",
    "from tokenizers import ByteLevelBPETokenizer\n",
    "\n",
    "# Load tokenizer\n",
    "TOKENIZER_DIR = \"data/marathi_bpe_tokenizer\"\n",
    "tokenizer = ByteLevelBPETokenizer(\n",
    "    os.path.join(TOKENIZER_DIR, \"vocab.json\"),\n",
    "    os.path.join(TOKENIZER_DIR, \"merges.txt\")\n",
    ")\n",
    "\n",
    "marathi_prompt = \"माझं नाव गीता आहे.\"\n",
    "input_ids = torch.tensor([tokenizer.encode(marathi_prompt).ids])\n",
    "with torch.no_grad():\n",
    "    logits = model(input_ids)\n",
    "print(\"Prompt:\", marathi_prompt)\n",
    "print(\"Input IDs:\", input_ids.tolist())\n",
    "print(\"Logits shape:\", logits.shape)"
   ]
  },
  {
   "cell_type": "code",
   "execution_count": 3,
   "id": "d0d994c7",
   "metadata": {},
   "outputs": [
    {
     "data": {
      "text/plain": [
       "['marathi_gpt2_step_1_100000.pt']"
      ]
     },
     "execution_count": 3,
     "metadata": {},
     "output_type": "execute_result"
    }
   ],
   "source": [
    "# List all available checkpoint files in the current directory\n",
    "import os\n",
    "[fn for fn in os.listdir(\".\") if fn.startswith(\"marathi_gpt2\") and fn.endswith(\".pt\")]"
   ]
  },
  {
   "cell_type": "code",
   "execution_count": null,
   "id": "7ea9a79c",
   "metadata": {},
   "outputs": [
    {
     "name": "stdout",
     "output_type": "stream",
     "text": [
      "Prompt: माझं नाव गीता आहे.\n",
      "Generated: माझं नाव गीता आहे.������������������������������\n"
     ]
    }
   ],
   "source": [
    "# Simple autoregressive text generation example\n",
    "import torch\n",
    "import os\n",
    "from tokenizers import ByteLevelBPETokenizer\n",
    "\n",
    "# Load tokenizer\n",
    "TOKENIZER_DIR = \"data/marathi_bpe_tokenizer\"\n",
    "tokenizer = ByteLevelBPETokenizer(\n",
    "    os.path.join(TOKENIZER_DIR, \"vocab.json\"),\n",
    "    os.path.join(TOKENIZER_DIR, \"merges.txt\")\n",
    ")\n",
    "\n",
    "def generate_text(model, tokenizer, prompt, max_new_tokens=30):\n",
    "    model.eval()\n",
    "    input_ids = tokenizer.encode(prompt).ids\n",
    "    input_tensor = torch.tensor([input_ids], dtype=torch.long)\n",
    "    for _ in range(max_new_tokens):\n",
    "        with torch.no_grad():\n",
    "            logits = model(input_tensor)\n",
    "            next_token_logits = logits[0, -1, :]\n",
    "            next_token_id = torch.argmax(next_token_logits).item()\n",
    "        input_ids.append(next_token_id)\n",
    "        input_tensor = torch.tensor([input_ids], dtype=torch.long)\n",
    "        # Stop if end-of-text token (if defined) is generated\n",
    "        if next_token_id == tokenizer.token_to_id(\"</s>\"):\n",
    "            break\n",
    "    return tokenizer.decode(input_ids)\n",
    "\n",
    "# Example usage\n",
    "prompt = \"माझं नाव आहे.\"\n",
    "generated = generate_text(model, tokenizer, prompt, max_new_tokens=30)\n",
    "print(\"Prompt:\", prompt)\n",
    "print(\"Generated:\", generated)"
   ]
  },
  {
   "cell_type": "code",
   "execution_count": 9,
   "id": "86153125",
   "metadata": {},
   "outputs": [
    {
     "name": "stdout",
     "output_type": "stream",
     "text": [
      "Prompt: माझं नाव आहे.\n",
      "Generated: माझं नाव आहे.������������������������������\n"
     ]
    }
   ],
   "source": [
    "prompt = \"माझं नाव आहे.\"\n",
    "generated = generate_text(model, tokenizer, prompt, max_new_tokens=30)\n",
    "print(\"Prompt:\", prompt)\n",
    "print(\"Generated:\", generated)"
   ]
  }
 ],
 "metadata": {
  "kernelspec": {
   "display_name": ".venv",
   "language": "python",
   "name": "python3"
  },
  "language_info": {
   "codemirror_mode": {
    "name": "ipython",
    "version": 3
   },
   "file_extension": ".py",
   "mimetype": "text/x-python",
   "name": "python",
   "nbconvert_exporter": "python",
   "pygments_lexer": "ipython3",
   "version": "3.12.3"
  }
 },
 "nbformat": 4,
 "nbformat_minor": 5
}
